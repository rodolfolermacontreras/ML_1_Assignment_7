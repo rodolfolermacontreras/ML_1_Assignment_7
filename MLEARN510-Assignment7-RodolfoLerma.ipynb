{
 "cells": [
  {
   "cell_type": "markdown",
   "metadata": {
    "collapsed": true
   },
   "source": [
    "# Assignment 7: Linear Model Selection and Regularization\n",
    "\n",
    "### Student: Rodolfo Lerma"
   ]
  },
  {
   "cell_type": "markdown",
   "metadata": {},
   "source": [
    "Dataset(s) needed:\n",
    "Kaggle House Prices (https://www.kaggle.com/c/house-prices-advanced-regression-techniques/data)"
   ]
  },
  {
   "cell_type": "markdown",
   "metadata": {},
   "source": [
    "## Learning Objectives\n",
    "- Produce a model with l2 regularization, with a statistically significant improvement over a model without regularization.\n",
    "- Produce a model with l1 regularization, with a statistically significant improvement over a model without regularization.\n",
    "- Produce a model with both l1 and l2 regularization terms, with a statistically significant improvement over a model without regularization.\n",
    "- Produce a logistic regression model with a statistically significant improvement over the null model (a model without input - variables).\n",
    "- Produce a generalized additive model with a statistically significant improvement over the null model (a model without input variables)."
   ]
  },
  {
   "cell_type": "code",
   "execution_count": 1,
   "metadata": {},
   "outputs": [
    {
     "data": {
      "text/html": [
       "<div>\n",
       "<style scoped>\n",
       "    .dataframe tbody tr th:only-of-type {\n",
       "        vertical-align: middle;\n",
       "    }\n",
       "\n",
       "    .dataframe tbody tr th {\n",
       "        vertical-align: top;\n",
       "    }\n",
       "\n",
       "    .dataframe thead th {\n",
       "        text-align: right;\n",
       "    }\n",
       "</style>\n",
       "<table border=\"1\" class=\"dataframe\">\n",
       "  <thead>\n",
       "    <tr style=\"text-align: right;\">\n",
       "      <th></th>\n",
       "      <th>Id</th>\n",
       "      <th>MSSubClass</th>\n",
       "      <th>MSZoning</th>\n",
       "      <th>LotFrontage</th>\n",
       "      <th>LotArea</th>\n",
       "      <th>Street</th>\n",
       "      <th>Alley</th>\n",
       "      <th>LotShape</th>\n",
       "      <th>LandContour</th>\n",
       "      <th>Utilities</th>\n",
       "      <th>...</th>\n",
       "      <th>PoolArea</th>\n",
       "      <th>PoolQC</th>\n",
       "      <th>Fence</th>\n",
       "      <th>MiscFeature</th>\n",
       "      <th>MiscVal</th>\n",
       "      <th>MoSold</th>\n",
       "      <th>YrSold</th>\n",
       "      <th>SaleType</th>\n",
       "      <th>SaleCondition</th>\n",
       "      <th>SalePrice</th>\n",
       "    </tr>\n",
       "  </thead>\n",
       "  <tbody>\n",
       "    <tr>\n",
       "      <th>0</th>\n",
       "      <td>1</td>\n",
       "      <td>60</td>\n",
       "      <td>RL</td>\n",
       "      <td>65.0</td>\n",
       "      <td>8450</td>\n",
       "      <td>Pave</td>\n",
       "      <td>NaN</td>\n",
       "      <td>Reg</td>\n",
       "      <td>Lvl</td>\n",
       "      <td>AllPub</td>\n",
       "      <td>...</td>\n",
       "      <td>0</td>\n",
       "      <td>NaN</td>\n",
       "      <td>NaN</td>\n",
       "      <td>NaN</td>\n",
       "      <td>0</td>\n",
       "      <td>2</td>\n",
       "      <td>2008</td>\n",
       "      <td>WD</td>\n",
       "      <td>Normal</td>\n",
       "      <td>208500</td>\n",
       "    </tr>\n",
       "    <tr>\n",
       "      <th>1</th>\n",
       "      <td>2</td>\n",
       "      <td>20</td>\n",
       "      <td>RL</td>\n",
       "      <td>80.0</td>\n",
       "      <td>9600</td>\n",
       "      <td>Pave</td>\n",
       "      <td>NaN</td>\n",
       "      <td>Reg</td>\n",
       "      <td>Lvl</td>\n",
       "      <td>AllPub</td>\n",
       "      <td>...</td>\n",
       "      <td>0</td>\n",
       "      <td>NaN</td>\n",
       "      <td>NaN</td>\n",
       "      <td>NaN</td>\n",
       "      <td>0</td>\n",
       "      <td>5</td>\n",
       "      <td>2007</td>\n",
       "      <td>WD</td>\n",
       "      <td>Normal</td>\n",
       "      <td>181500</td>\n",
       "    </tr>\n",
       "    <tr>\n",
       "      <th>2</th>\n",
       "      <td>3</td>\n",
       "      <td>60</td>\n",
       "      <td>RL</td>\n",
       "      <td>68.0</td>\n",
       "      <td>11250</td>\n",
       "      <td>Pave</td>\n",
       "      <td>NaN</td>\n",
       "      <td>IR1</td>\n",
       "      <td>Lvl</td>\n",
       "      <td>AllPub</td>\n",
       "      <td>...</td>\n",
       "      <td>0</td>\n",
       "      <td>NaN</td>\n",
       "      <td>NaN</td>\n",
       "      <td>NaN</td>\n",
       "      <td>0</td>\n",
       "      <td>9</td>\n",
       "      <td>2008</td>\n",
       "      <td>WD</td>\n",
       "      <td>Normal</td>\n",
       "      <td>223500</td>\n",
       "    </tr>\n",
       "    <tr>\n",
       "      <th>3</th>\n",
       "      <td>4</td>\n",
       "      <td>70</td>\n",
       "      <td>RL</td>\n",
       "      <td>60.0</td>\n",
       "      <td>9550</td>\n",
       "      <td>Pave</td>\n",
       "      <td>NaN</td>\n",
       "      <td>IR1</td>\n",
       "      <td>Lvl</td>\n",
       "      <td>AllPub</td>\n",
       "      <td>...</td>\n",
       "      <td>0</td>\n",
       "      <td>NaN</td>\n",
       "      <td>NaN</td>\n",
       "      <td>NaN</td>\n",
       "      <td>0</td>\n",
       "      <td>2</td>\n",
       "      <td>2006</td>\n",
       "      <td>WD</td>\n",
       "      <td>Abnorml</td>\n",
       "      <td>140000</td>\n",
       "    </tr>\n",
       "    <tr>\n",
       "      <th>4</th>\n",
       "      <td>5</td>\n",
       "      <td>60</td>\n",
       "      <td>RL</td>\n",
       "      <td>84.0</td>\n",
       "      <td>14260</td>\n",
       "      <td>Pave</td>\n",
       "      <td>NaN</td>\n",
       "      <td>IR1</td>\n",
       "      <td>Lvl</td>\n",
       "      <td>AllPub</td>\n",
       "      <td>...</td>\n",
       "      <td>0</td>\n",
       "      <td>NaN</td>\n",
       "      <td>NaN</td>\n",
       "      <td>NaN</td>\n",
       "      <td>0</td>\n",
       "      <td>12</td>\n",
       "      <td>2008</td>\n",
       "      <td>WD</td>\n",
       "      <td>Normal</td>\n",
       "      <td>250000</td>\n",
       "    </tr>\n",
       "  </tbody>\n",
       "</table>\n",
       "<p>5 rows × 81 columns</p>\n",
       "</div>"
      ],
      "text/plain": [
       "   Id  MSSubClass MSZoning  LotFrontage  LotArea Street Alley LotShape  \\\n",
       "0   1          60       RL         65.0     8450   Pave   NaN      Reg   \n",
       "1   2          20       RL         80.0     9600   Pave   NaN      Reg   \n",
       "2   3          60       RL         68.0    11250   Pave   NaN      IR1   \n",
       "3   4          70       RL         60.0     9550   Pave   NaN      IR1   \n",
       "4   5          60       RL         84.0    14260   Pave   NaN      IR1   \n",
       "\n",
       "  LandContour Utilities  ... PoolArea PoolQC Fence MiscFeature MiscVal MoSold  \\\n",
       "0         Lvl    AllPub  ...        0    NaN   NaN         NaN       0      2   \n",
       "1         Lvl    AllPub  ...        0    NaN   NaN         NaN       0      5   \n",
       "2         Lvl    AllPub  ...        0    NaN   NaN         NaN       0      9   \n",
       "3         Lvl    AllPub  ...        0    NaN   NaN         NaN       0      2   \n",
       "4         Lvl    AllPub  ...        0    NaN   NaN         NaN       0     12   \n",
       "\n",
       "  YrSold  SaleType  SaleCondition  SalePrice  \n",
       "0   2008        WD         Normal     208500  \n",
       "1   2007        WD         Normal     181500  \n",
       "2   2008        WD         Normal     223500  \n",
       "3   2006        WD        Abnorml     140000  \n",
       "4   2008        WD         Normal     250000  \n",
       "\n",
       "[5 rows x 81 columns]"
      ]
     },
     "execution_count": 1,
     "metadata": {},
     "output_type": "execute_result"
    }
   ],
   "source": [
    "import pandas as pd\n",
    "import numpy as np\n",
    "import seaborn as sns\n",
    "\n",
    "data = pd.read_csv('House Prices.csv')\n",
    "data.head()"
   ]
  },
  {
   "cell_type": "code",
   "execution_count": 2,
   "metadata": {},
   "outputs": [
    {
     "data": {
      "text/plain": [
       "(1460, 81)"
      ]
     },
     "execution_count": 2,
     "metadata": {},
     "output_type": "execute_result"
    }
   ],
   "source": [
    "data.shape"
   ]
  },
  {
   "cell_type": "markdown",
   "metadata": {},
   "source": [
    "We can see the original data set contains 81 features and 1460 rows."
   ]
  },
  {
   "cell_type": "markdown",
   "metadata": {},
   "source": [
    "### Question 1.1: Drop the Id column as it is not needed for prediction"
   ]
  },
  {
   "cell_type": "code",
   "execution_count": 3,
   "metadata": {},
   "outputs": [],
   "source": [
    "data.drop(columns = 'Id', inplace = True)"
   ]
  },
  {
   "cell_type": "markdown",
   "metadata": {},
   "source": [
    "## Data Exploration"
   ]
  },
  {
   "cell_type": "code",
   "execution_count": 4,
   "metadata": {
    "scrolled": false
   },
   "outputs": [
    {
     "data": {
      "text/plain": [
       "MSSubClass         int64\n",
       "MSZoning          object\n",
       "LotFrontage      float64\n",
       "LotArea            int64\n",
       "Street            object\n",
       "                  ...   \n",
       "MoSold             int64\n",
       "YrSold             int64\n",
       "SaleType          object\n",
       "SaleCondition     object\n",
       "SalePrice          int64\n",
       "Length: 80, dtype: object"
      ]
     },
     "execution_count": 4,
     "metadata": {},
     "output_type": "execute_result"
    }
   ],
   "source": [
    "data.dtypes"
   ]
  },
  {
   "cell_type": "markdown",
   "metadata": {},
   "source": [
    "Some features that should be numerical are marked as `object`, then further investigation needs to be done."
   ]
  },
  {
   "cell_type": "markdown",
   "metadata": {},
   "source": [
    "#### Missing Values (Columns with the missing more than 40% of the data)"
   ]
  },
  {
   "cell_type": "code",
   "execution_count": 5,
   "metadata": {},
   "outputs": [
    {
     "name": "stdout",
     "output_type": "stream",
     "text": [
      "['Alley', 'FireplaceQu', 'PoolQC', 'Fence', 'MiscFeature']\n"
     ]
    }
   ],
   "source": [
    "missing_values = []\n",
    "my_list = data.columns.values.tolist()\n",
    "y = data.shape\n",
    "for i in my_list:\n",
    "    x = data[i].isnull().sum()\n",
    "    missing_values.append(x)\n",
    "    \n",
    "columns_missing = dict(zip(my_list, missing_values))\n",
    "a = sorted(columns_missing.items(), key=lambda x: x[1], reverse = True)  \n",
    "\n",
    "missing_columns_names = []\n",
    "for key, value in columns_missing.items():\n",
    "    if value > (data.shape[0])/2.5 : #40% of the data\n",
    "        x = key\n",
    "        missing_columns_names.append(x)\n",
    "print(missing_columns_names)"
   ]
  },
  {
   "cell_type": "code",
   "execution_count": 6,
   "metadata": {},
   "outputs": [
    {
     "data": {
      "text/plain": [
       "(1460, 75)"
      ]
     },
     "execution_count": 6,
     "metadata": {},
     "output_type": "execute_result"
    }
   ],
   "source": [
    "data = data.drop(missing_columns_names, axis = 1)\n",
    "data.shape"
   ]
  },
  {
   "cell_type": "markdown",
   "metadata": {},
   "source": [
    "### Question 1.2: Visualize a scatter plot of 'GrLivArea' in the x-axis and 'SalePrice' in the y-axis. Can you spot any outliers?"
   ]
  },
  {
   "cell_type": "code",
   "execution_count": 7,
   "metadata": {},
   "outputs": [
    {
     "data": {
      "image/png": "[encoded data removed]",
      "text/plain": [
       "<Figure size 576x432 with 1 Axes>"
      ]
     },
     "metadata": {
      "needs_background": "light"
     },
     "output_type": "display_data"
    }
   ],
   "source": [
    "import matplotlib.pyplot as plt\n",
    "plt.figure(figsize=(8, 6))\n",
    "plt.scatter(data['GrLivArea'], data['SalePrice'])\n",
    "plt.title('GrLivArea Vs SalePrice', fontsize = 15)\n",
    "plt.xlabel('GrLiveArea', fontsize = 12)\n",
    "plt.ylabel('SalesPrice', fontsize = 12)\n",
    "plt.grid()\n",
    "plt.show()"
   ]
  },
  {
   "cell_type": "markdown",
   "metadata": {},
   "source": [
    "It is possible to see the relationship between `SalesPrice` & `GrLiveArea` and also the outliers present on the data in terms of `GrLiveArea`."
   ]
  },
  {
   "cell_type": "code",
   "execution_count": 8,
   "metadata": {},
   "outputs": [
    {
     "data": {
      "image/png": "[encoded data removed]",
      "text/plain": [
       "<Figure size 864x576 with 1 Axes>"
      ]
     },
     "metadata": {
      "needs_background": "light"
     },
     "output_type": "display_data"
    }
   ],
   "source": [
    "data['SalePrice'].hist(figsize = (12,8))\n",
    "plt.xlabel('SalePrice', fontsize = 20)\n",
    "plt.ylabel('Frequency',fontsize = 20)\n",
    "plt.title('Sale Price Distribution', fontsize = 20)\n",
    "plt.tick_params(axis=\"x\", labelsize=15)\n",
    "plt.tick_params(axis=\"y\", labelsize=15)\n",
    "plt.grid(True)\n",
    "plt.show()"
   ]
  },
  {
   "cell_type": "markdown",
   "metadata": {},
   "source": [
    "### Question 1.3: Removing outliers in the data for all GrLivArea greater than 4000 then check the scatter plot again"
   ]
  },
  {
   "cell_type": "code",
   "execution_count": 9,
   "metadata": {},
   "outputs": [
    {
     "data": {
      "image/png": "[encoded data removed]",
      "text/plain": [
       "<Figure size 576x432 with 1 Axes>"
      ]
     },
     "metadata": {
      "needs_background": "light"
     },
     "output_type": "display_data"
    }
   ],
   "source": [
    "# Remove outliers for data['GrLivArea']>4000\n",
    "data = data[data['GrLivArea']<4000]\n",
    "\n",
    "#To Do Create a scatter plot\n",
    "plt.figure(figsize=(8, 6))\n",
    "plt.scatter(data['GrLivArea'], data['SalePrice'])\n",
    "plt.title('GrLivArea Vs SalePrice', fontsize = 15)\n",
    "plt.xlabel('GrLiveArea', fontsize = 12)\n",
    "plt.ylabel('SalesPrice', fontsize = 12)\n",
    "plt.grid()\n",
    "plt.show()"
   ]
  },
  {
   "cell_type": "markdown",
   "metadata": {},
   "source": [
    "The noted outliers were removed from the `GrLiveArea` feature."
   ]
  },
  {
   "cell_type": "markdown",
   "metadata": {},
   "source": [
    "### Quesiont 2.1: Convert categorical variable into dummy variables using pandas get_dummies API"
   ]
  },
  {
   "cell_type": "markdown",
   "metadata": {},
   "source": [
    "In the code below the features will be split between *categorical* & *numerical*."
   ]
  },
  {
   "cell_type": "code",
   "execution_count": 10,
   "metadata": {},
   "outputs": [],
   "source": [
    "categorical = []\n",
    "numerical = []\n",
    "updated_columns = data.columns.values.tolist()\n",
    "y = data.shape\n",
    "for i in updated_columns:\n",
    "    x = data[i].dtypes\n",
    "    if x == object:\n",
    "        categorical.append(i)\n",
    "    else:\n",
    "        numerical.append(i)"
   ]
  },
  {
   "cell_type": "code",
   "execution_count": 11,
   "metadata": {},
   "outputs": [],
   "source": [
    "#To Ensure the columns are in fact numerical values\n",
    "for i in numerical:\n",
    "    data[i] = pd.to_numeric(data[i])"
   ]
  },
  {
   "cell_type": "code",
   "execution_count": 12,
   "metadata": {},
   "outputs": [
    {
     "data": {
      "text/plain": [
       "(1456, 75)"
      ]
     },
     "execution_count": 12,
     "metadata": {},
     "output_type": "execute_result"
    }
   ],
   "source": [
    "data.shape"
   ]
  },
  {
   "cell_type": "markdown",
   "metadata": {},
   "source": [
    "#### Experiment to verify would what happens with the NaN by using `get_dummies`"
   ]
  },
  {
   "cell_type": "code",
   "execution_count": 13,
   "metadata": {},
   "outputs": [],
   "source": [
    "data['GarageCond'].unique()\n",
    "example = data['GarageCond'].to_frame()"
   ]
  },
  {
   "cell_type": "code",
   "execution_count": 14,
   "metadata": {},
   "outputs": [
    {
     "data": {
      "text/html": [
       "<div>\n",
       "<style scoped>\n",
       "    .dataframe tbody tr th:only-of-type {\n",
       "        vertical-align: middle;\n",
       "    }\n",
       "\n",
       "    .dataframe tbody tr th {\n",
       "        vertical-align: top;\n",
       "    }\n",
       "\n",
       "    .dataframe thead th {\n",
       "        text-align: right;\n",
       "    }\n",
       "</style>\n",
       "<table border=\"1\" class=\"dataframe\">\n",
       "  <thead>\n",
       "    <tr style=\"text-align: right;\">\n",
       "      <th></th>\n",
       "      <th>GarageCond_Ex</th>\n",
       "      <th>GarageCond_Fa</th>\n",
       "      <th>GarageCond_Gd</th>\n",
       "      <th>GarageCond_Po</th>\n",
       "      <th>GarageCond_TA</th>\n",
       "    </tr>\n",
       "  </thead>\n",
       "  <tbody>\n",
       "    <tr>\n",
       "      <th>0</th>\n",
       "      <td>0</td>\n",
       "      <td>0</td>\n",
       "      <td>0</td>\n",
       "      <td>0</td>\n",
       "      <td>1</td>\n",
       "    </tr>\n",
       "    <tr>\n",
       "      <th>1</th>\n",
       "      <td>0</td>\n",
       "      <td>0</td>\n",
       "      <td>0</td>\n",
       "      <td>0</td>\n",
       "      <td>1</td>\n",
       "    </tr>\n",
       "    <tr>\n",
       "      <th>2</th>\n",
       "      <td>0</td>\n",
       "      <td>0</td>\n",
       "      <td>0</td>\n",
       "      <td>0</td>\n",
       "      <td>1</td>\n",
       "    </tr>\n",
       "    <tr>\n",
       "      <th>3</th>\n",
       "      <td>0</td>\n",
       "      <td>0</td>\n",
       "      <td>0</td>\n",
       "      <td>0</td>\n",
       "      <td>1</td>\n",
       "    </tr>\n",
       "    <tr>\n",
       "      <th>4</th>\n",
       "      <td>0</td>\n",
       "      <td>0</td>\n",
       "      <td>0</td>\n",
       "      <td>0</td>\n",
       "      <td>1</td>\n",
       "    </tr>\n",
       "  </tbody>\n",
       "</table>\n",
       "</div>"
      ],
      "text/plain": [
       "   GarageCond_Ex  GarageCond_Fa  GarageCond_Gd  GarageCond_Po  GarageCond_TA\n",
       "0              0              0              0              0              1\n",
       "1              0              0              0              0              1\n",
       "2              0              0              0              0              1\n",
       "3              0              0              0              0              1\n",
       "4              0              0              0              0              1"
      ]
     },
     "execution_count": 14,
     "metadata": {},
     "output_type": "execute_result"
    }
   ],
   "source": [
    "new_example = pd.get_dummies(example)\n",
    "new_example.head()"
   ]
  },
  {
   "cell_type": "markdown",
   "metadata": {},
   "source": [
    "As it is possible to see in the example above the `get_dummies` function ignored the **NaN values** when creating columns."
   ]
  },
  {
   "cell_type": "code",
   "execution_count": 15,
   "metadata": {},
   "outputs": [
    {
     "data": {
      "text/html": [
       "<div>\n",
       "<style scoped>\n",
       "    .dataframe tbody tr th:only-of-type {\n",
       "        vertical-align: middle;\n",
       "    }\n",
       "\n",
       "    .dataframe tbody tr th {\n",
       "        vertical-align: top;\n",
       "    }\n",
       "\n",
       "    .dataframe thead th {\n",
       "        text-align: right;\n",
       "    }\n",
       "</style>\n",
       "<table border=\"1\" class=\"dataframe\">\n",
       "  <thead>\n",
       "    <tr style=\"text-align: right;\">\n",
       "      <th></th>\n",
       "      <th>MSZoning_C (all)</th>\n",
       "      <th>MSZoning_FV</th>\n",
       "      <th>MSZoning_RH</th>\n",
       "      <th>MSZoning_RL</th>\n",
       "      <th>MSZoning_RM</th>\n",
       "      <th>Street_Grvl</th>\n",
       "      <th>Street_Pave</th>\n",
       "      <th>LotShape_IR1</th>\n",
       "      <th>LotShape_IR2</th>\n",
       "      <th>LotShape_IR3</th>\n",
       "      <th>...</th>\n",
       "      <th>SaleType_ConLw</th>\n",
       "      <th>SaleType_New</th>\n",
       "      <th>SaleType_Oth</th>\n",
       "      <th>SaleType_WD</th>\n",
       "      <th>SaleCondition_Abnorml</th>\n",
       "      <th>SaleCondition_AdjLand</th>\n",
       "      <th>SaleCondition_Alloca</th>\n",
       "      <th>SaleCondition_Family</th>\n",
       "      <th>SaleCondition_Normal</th>\n",
       "      <th>SaleCondition_Partial</th>\n",
       "    </tr>\n",
       "  </thead>\n",
       "  <tbody>\n",
       "    <tr>\n",
       "      <th>0</th>\n",
       "      <td>0</td>\n",
       "      <td>0</td>\n",
       "      <td>0</td>\n",
       "      <td>1</td>\n",
       "      <td>0</td>\n",
       "      <td>0</td>\n",
       "      <td>1</td>\n",
       "      <td>0</td>\n",
       "      <td>0</td>\n",
       "      <td>0</td>\n",
       "      <td>...</td>\n",
       "      <td>0</td>\n",
       "      <td>0</td>\n",
       "      <td>0</td>\n",
       "      <td>1</td>\n",
       "      <td>0</td>\n",
       "      <td>0</td>\n",
       "      <td>0</td>\n",
       "      <td>0</td>\n",
       "      <td>1</td>\n",
       "      <td>0</td>\n",
       "    </tr>\n",
       "    <tr>\n",
       "      <th>1</th>\n",
       "      <td>0</td>\n",
       "      <td>0</td>\n",
       "      <td>0</td>\n",
       "      <td>1</td>\n",
       "      <td>0</td>\n",
       "      <td>0</td>\n",
       "      <td>1</td>\n",
       "      <td>0</td>\n",
       "      <td>0</td>\n",
       "      <td>0</td>\n",
       "      <td>...</td>\n",
       "      <td>0</td>\n",
       "      <td>0</td>\n",
       "      <td>0</td>\n",
       "      <td>1</td>\n",
       "      <td>0</td>\n",
       "      <td>0</td>\n",
       "      <td>0</td>\n",
       "      <td>0</td>\n",
       "      <td>1</td>\n",
       "      <td>0</td>\n",
       "    </tr>\n",
       "    <tr>\n",
       "      <th>2</th>\n",
       "      <td>0</td>\n",
       "      <td>0</td>\n",
       "      <td>0</td>\n",
       "      <td>1</td>\n",
       "      <td>0</td>\n",
       "      <td>0</td>\n",
       "      <td>1</td>\n",
       "      <td>1</td>\n",
       "      <td>0</td>\n",
       "      <td>0</td>\n",
       "      <td>...</td>\n",
       "      <td>0</td>\n",
       "      <td>0</td>\n",
       "      <td>0</td>\n",
       "      <td>1</td>\n",
       "      <td>0</td>\n",
       "      <td>0</td>\n",
       "      <td>0</td>\n",
       "      <td>0</td>\n",
       "      <td>1</td>\n",
       "      <td>0</td>\n",
       "    </tr>\n",
       "    <tr>\n",
       "      <th>3</th>\n",
       "      <td>0</td>\n",
       "      <td>0</td>\n",
       "      <td>0</td>\n",
       "      <td>1</td>\n",
       "      <td>0</td>\n",
       "      <td>0</td>\n",
       "      <td>1</td>\n",
       "      <td>1</td>\n",
       "      <td>0</td>\n",
       "      <td>0</td>\n",
       "      <td>...</td>\n",
       "      <td>0</td>\n",
       "      <td>0</td>\n",
       "      <td>0</td>\n",
       "      <td>1</td>\n",
       "      <td>1</td>\n",
       "      <td>0</td>\n",
       "      <td>0</td>\n",
       "      <td>0</td>\n",
       "      <td>0</td>\n",
       "      <td>0</td>\n",
       "    </tr>\n",
       "    <tr>\n",
       "      <th>4</th>\n",
       "      <td>0</td>\n",
       "      <td>0</td>\n",
       "      <td>0</td>\n",
       "      <td>1</td>\n",
       "      <td>0</td>\n",
       "      <td>0</td>\n",
       "      <td>1</td>\n",
       "      <td>1</td>\n",
       "      <td>0</td>\n",
       "      <td>0</td>\n",
       "      <td>...</td>\n",
       "      <td>0</td>\n",
       "      <td>0</td>\n",
       "      <td>0</td>\n",
       "      <td>1</td>\n",
       "      <td>0</td>\n",
       "      <td>0</td>\n",
       "      <td>0</td>\n",
       "      <td>0</td>\n",
       "      <td>1</td>\n",
       "      <td>0</td>\n",
       "    </tr>\n",
       "  </tbody>\n",
       "</table>\n",
       "<p>5 rows × 233 columns</p>\n",
       "</div>"
      ],
      "text/plain": [
       "   MSZoning_C (all)  MSZoning_FV  MSZoning_RH  MSZoning_RL  MSZoning_RM  \\\n",
       "0                 0            0            0            1            0   \n",
       "1                 0            0            0            1            0   \n",
       "2                 0            0            0            1            0   \n",
       "3                 0            0            0            1            0   \n",
       "4                 0            0            0            1            0   \n",
       "\n",
       "   Street_Grvl  Street_Pave  LotShape_IR1  LotShape_IR2  LotShape_IR3  ...  \\\n",
       "0            0            1             0             0             0  ...   \n",
       "1            0            1             0             0             0  ...   \n",
       "2            0            1             1             0             0  ...   \n",
       "3            0            1             1             0             0  ...   \n",
       "4            0            1             1             0             0  ...   \n",
       "\n",
       "   SaleType_ConLw  SaleType_New  SaleType_Oth  SaleType_WD  \\\n",
       "0               0             0             0            1   \n",
       "1               0             0             0            1   \n",
       "2               0             0             0            1   \n",
       "3               0             0             0            1   \n",
       "4               0             0             0            1   \n",
       "\n",
       "   SaleCondition_Abnorml  SaleCondition_AdjLand  SaleCondition_Alloca  \\\n",
       "0                      0                      0                     0   \n",
       "1                      0                      0                     0   \n",
       "2                      0                      0                     0   \n",
       "3                      1                      0                     0   \n",
       "4                      0                      0                     0   \n",
       "\n",
       "   SaleCondition_Family  SaleCondition_Normal  SaleCondition_Partial  \n",
       "0                     0                     1                      0  \n",
       "1                     0                     1                      0  \n",
       "2                     0                     1                      0  \n",
       "3                     0                     0                      0  \n",
       "4                     0                     1                      0  \n",
       "\n",
       "[5 rows x 233 columns]"
      ]
     },
     "execution_count": 15,
     "metadata": {},
     "output_type": "execute_result"
    }
   ],
   "source": [
    "categorical_data = pd.get_dummies(data[categorical])\n",
    "categorical_data.head()"
   ]
  },
  {
   "cell_type": "code",
   "execution_count": 16,
   "metadata": {},
   "outputs": [
    {
     "data": {
      "text/plain": [
       "(1456, 233)"
      ]
     },
     "execution_count": 16,
     "metadata": {},
     "output_type": "execute_result"
    }
   ],
   "source": [
    "categorical_data.shape"
   ]
  },
  {
   "cell_type": "markdown",
   "metadata": {},
   "source": [
    "**233** \"dummy\" columns would be created based on the values given in the categorical features."
   ]
  },
  {
   "cell_type": "code",
   "execution_count": 17,
   "metadata": {},
   "outputs": [
    {
     "data": {
      "text/html": [
       "<div>\n",
       "<style scoped>\n",
       "    .dataframe tbody tr th:only-of-type {\n",
       "        vertical-align: middle;\n",
       "    }\n",
       "\n",
       "    .dataframe tbody tr th {\n",
       "        vertical-align: top;\n",
       "    }\n",
       "\n",
       "    .dataframe thead th {\n",
       "        text-align: right;\n",
       "    }\n",
       "</style>\n",
       "<table border=\"1\" class=\"dataframe\">\n",
       "  <thead>\n",
       "    <tr style=\"text-align: right;\">\n",
       "      <th></th>\n",
       "      <th>MSSubClass</th>\n",
       "      <th>MSZoning</th>\n",
       "      <th>LotFrontage</th>\n",
       "      <th>LotArea</th>\n",
       "      <th>Street</th>\n",
       "      <th>LotShape</th>\n",
       "      <th>LandContour</th>\n",
       "      <th>Utilities</th>\n",
       "      <th>LotConfig</th>\n",
       "      <th>LandSlope</th>\n",
       "      <th>...</th>\n",
       "      <th>SaleType_ConLw</th>\n",
       "      <th>SaleType_New</th>\n",
       "      <th>SaleType_Oth</th>\n",
       "      <th>SaleType_WD</th>\n",
       "      <th>SaleCondition_Abnorml</th>\n",
       "      <th>SaleCondition_AdjLand</th>\n",
       "      <th>SaleCondition_Alloca</th>\n",
       "      <th>SaleCondition_Family</th>\n",
       "      <th>SaleCondition_Normal</th>\n",
       "      <th>SaleCondition_Partial</th>\n",
       "    </tr>\n",
       "  </thead>\n",
       "  <tbody>\n",
       "    <tr>\n",
       "      <th>0</th>\n",
       "      <td>60</td>\n",
       "      <td>RL</td>\n",
       "      <td>65.0</td>\n",
       "      <td>8450</td>\n",
       "      <td>Pave</td>\n",
       "      <td>Reg</td>\n",
       "      <td>Lvl</td>\n",
       "      <td>AllPub</td>\n",
       "      <td>Inside</td>\n",
       "      <td>Gtl</td>\n",
       "      <td>...</td>\n",
       "      <td>0</td>\n",
       "      <td>0</td>\n",
       "      <td>0</td>\n",
       "      <td>1</td>\n",
       "      <td>0</td>\n",
       "      <td>0</td>\n",
       "      <td>0</td>\n",
       "      <td>0</td>\n",
       "      <td>1</td>\n",
       "      <td>0</td>\n",
       "    </tr>\n",
       "    <tr>\n",
       "      <th>1</th>\n",
       "      <td>20</td>\n",
       "      <td>RL</td>\n",
       "      <td>80.0</td>\n",
       "      <td>9600</td>\n",
       "      <td>Pave</td>\n",
       "      <td>Reg</td>\n",
       "      <td>Lvl</td>\n",
       "      <td>AllPub</td>\n",
       "      <td>FR2</td>\n",
       "      <td>Gtl</td>\n",
       "      <td>...</td>\n",
       "      <td>0</td>\n",
       "      <td>0</td>\n",
       "      <td>0</td>\n",
       "      <td>1</td>\n",
       "      <td>0</td>\n",
       "      <td>0</td>\n",
       "      <td>0</td>\n",
       "      <td>0</td>\n",
       "      <td>1</td>\n",
       "      <td>0</td>\n",
       "    </tr>\n",
       "    <tr>\n",
       "      <th>2</th>\n",
       "      <td>60</td>\n",
       "      <td>RL</td>\n",
       "      <td>68.0</td>\n",
       "      <td>11250</td>\n",
       "      <td>Pave</td>\n",
       "      <td>IR1</td>\n",
       "      <td>Lvl</td>\n",
       "      <td>AllPub</td>\n",
       "      <td>Inside</td>\n",
       "      <td>Gtl</td>\n",
       "      <td>...</td>\n",
       "      <td>0</td>\n",
       "      <td>0</td>\n",
       "      <td>0</td>\n",
       "      <td>1</td>\n",
       "      <td>0</td>\n",
       "      <td>0</td>\n",
       "      <td>0</td>\n",
       "      <td>0</td>\n",
       "      <td>1</td>\n",
       "      <td>0</td>\n",
       "    </tr>\n",
       "    <tr>\n",
       "      <th>3</th>\n",
       "      <td>70</td>\n",
       "      <td>RL</td>\n",
       "      <td>60.0</td>\n",
       "      <td>9550</td>\n",
       "      <td>Pave</td>\n",
       "      <td>IR1</td>\n",
       "      <td>Lvl</td>\n",
       "      <td>AllPub</td>\n",
       "      <td>Corner</td>\n",
       "      <td>Gtl</td>\n",
       "      <td>...</td>\n",
       "      <td>0</td>\n",
       "      <td>0</td>\n",
       "      <td>0</td>\n",
       "      <td>1</td>\n",
       "      <td>1</td>\n",
       "      <td>0</td>\n",
       "      <td>0</td>\n",
       "      <td>0</td>\n",
       "      <td>0</td>\n",
       "      <td>0</td>\n",
       "    </tr>\n",
       "    <tr>\n",
       "      <th>4</th>\n",
       "      <td>60</td>\n",
       "      <td>RL</td>\n",
       "      <td>84.0</td>\n",
       "      <td>14260</td>\n",
       "      <td>Pave</td>\n",
       "      <td>IR1</td>\n",
       "      <td>Lvl</td>\n",
       "      <td>AllPub</td>\n",
       "      <td>FR2</td>\n",
       "      <td>Gtl</td>\n",
       "      <td>...</td>\n",
       "      <td>0</td>\n",
       "      <td>0</td>\n",
       "      <td>0</td>\n",
       "      <td>1</td>\n",
       "      <td>0</td>\n",
       "      <td>0</td>\n",
       "      <td>0</td>\n",
       "      <td>0</td>\n",
       "      <td>1</td>\n",
       "      <td>0</td>\n",
       "    </tr>\n",
       "  </tbody>\n",
       "</table>\n",
       "<p>5 rows × 308 columns</p>\n",
       "</div>"
      ],
      "text/plain": [
       "   MSSubClass MSZoning  LotFrontage  LotArea Street LotShape LandContour  \\\n",
       "0          60       RL         65.0     8450   Pave      Reg         Lvl   \n",
       "1          20       RL         80.0     9600   Pave      Reg         Lvl   \n",
       "2          60       RL         68.0    11250   Pave      IR1         Lvl   \n",
       "3          70       RL         60.0     9550   Pave      IR1         Lvl   \n",
       "4          60       RL         84.0    14260   Pave      IR1         Lvl   \n",
       "\n",
       "  Utilities LotConfig LandSlope  ... SaleType_ConLw SaleType_New SaleType_Oth  \\\n",
       "0    AllPub    Inside       Gtl  ...              0            0            0   \n",
       "1    AllPub       FR2       Gtl  ...              0            0            0   \n",
       "2    AllPub    Inside       Gtl  ...              0            0            0   \n",
       "3    AllPub    Corner       Gtl  ...              0            0            0   \n",
       "4    AllPub       FR2       Gtl  ...              0            0            0   \n",
       "\n",
       "  SaleType_WD SaleCondition_Abnorml  SaleCondition_AdjLand  \\\n",
       "0           1                     0                      0   \n",
       "1           1                     0                      0   \n",
       "2           1                     0                      0   \n",
       "3           1                     1                      0   \n",
       "4           1                     0                      0   \n",
       "\n",
       "   SaleCondition_Alloca  SaleCondition_Family  SaleCondition_Normal  \\\n",
       "0                     0                     0                     1   \n",
       "1                     0                     0                     1   \n",
       "2                     0                     0                     1   \n",
       "3                     0                     0                     0   \n",
       "4                     0                     0                     1   \n",
       "\n",
       "  SaleCondition_Partial  \n",
       "0                     0  \n",
       "1                     0  \n",
       "2                     0  \n",
       "3                     0  \n",
       "4                     0  \n",
       "\n",
       "[5 rows x 308 columns]"
      ]
     },
     "execution_count": 17,
     "metadata": {},
     "output_type": "execute_result"
    }
   ],
   "source": [
    "#Join between the previous data set and the one created with dummy columns\n",
    "df = pd.concat([data, categorical_data], axis = 1) \n",
    "df.head()"
   ]
  },
  {
   "cell_type": "code",
   "execution_count": 18,
   "metadata": {},
   "outputs": [
    {
     "data": {
      "text/plain": [
       "(1456, 308)"
      ]
     },
     "execution_count": 18,
     "metadata": {},
     "output_type": "execute_result"
    }
   ],
   "source": [
    "df.shape"
   ]
  },
  {
   "cell_type": "markdown",
   "metadata": {},
   "source": [
    "We can notice that the number of rows in our dataset remained the same and the number of columns is 75 (original set) + 233 (get_dummies) = 308."
   ]
  },
  {
   "cell_type": "code",
   "execution_count": 19,
   "metadata": {},
   "outputs": [
    {
     "data": {
      "text/plain": [
       "(1456, 270)"
      ]
     },
     "execution_count": 19,
     "metadata": {},
     "output_type": "execute_result"
    }
   ],
   "source": [
    "#Drop the original categorical variables\n",
    "df = df.drop(categorical, axis = 1)\n",
    "df.shape"
   ]
  },
  {
   "cell_type": "markdown",
   "metadata": {},
   "source": [
    "### Question 2.2: Impute missing data by the median of each column."
   ]
  },
  {
   "cell_type": "code",
   "execution_count": 20,
   "metadata": {},
   "outputs": [],
   "source": [
    "for i in numerical:\n",
    "    df[i].fillna(df[i].median(), inplace=True)"
   ]
  },
  {
   "cell_type": "markdown",
   "metadata": {},
   "source": [
    "### Question 2.2b: Make sure that there are no null values remaining"
   ]
  },
  {
   "cell_type": "code",
   "execution_count": 21,
   "metadata": {},
   "outputs": [
    {
     "name": "stdout",
     "output_type": "stream",
     "text": [
      "[]\n"
     ]
    }
   ],
   "source": [
    "missing_values = []\n",
    "my_list = df.columns.values.tolist()\n",
    "y = df.shape\n",
    "for i in my_list:\n",
    "    x = df[i].isnull().sum()\n",
    "    missing_values.append(x)\n",
    "    \n",
    "columns_missing = dict(zip(my_list, missing_values))\n",
    "a = sorted(columns_missing.items(), key=lambda x: x[1], reverse = True)  \n",
    "\n",
    "missing_columns_names = []\n",
    "for key, value in columns_missing.items():\n",
    "    if value > (df.shape[0])/2.5 : #50% of the data\n",
    "        x = key\n",
    "        missing_columns_names.append(x)\n",
    "print(missing_columns_names)"
   ]
  },
  {
   "cell_type": "markdown",
   "metadata": {},
   "source": [
    "**No columns with missing values were found.**"
   ]
  },
  {
   "cell_type": "markdown",
   "metadata": {},
   "source": [
    "### Final dataset shape"
   ]
  },
  {
   "cell_type": "code",
   "execution_count": 22,
   "metadata": {},
   "outputs": [
    {
     "data": {
      "text/html": [
       "<div>\n",
       "<style scoped>\n",
       "    .dataframe tbody tr th:only-of-type {\n",
       "        vertical-align: middle;\n",
       "    }\n",
       "\n",
       "    .dataframe tbody tr th {\n",
       "        vertical-align: top;\n",
       "    }\n",
       "\n",
       "    .dataframe thead th {\n",
       "        text-align: right;\n",
       "    }\n",
       "</style>\n",
       "<table border=\"1\" class=\"dataframe\">\n",
       "  <thead>\n",
       "    <tr style=\"text-align: right;\">\n",
       "      <th></th>\n",
       "      <th>MSSubClass</th>\n",
       "      <th>LotFrontage</th>\n",
       "      <th>LotArea</th>\n",
       "      <th>OverallQual</th>\n",
       "      <th>OverallCond</th>\n",
       "      <th>YearBuilt</th>\n",
       "      <th>YearRemodAdd</th>\n",
       "      <th>MasVnrArea</th>\n",
       "      <th>BsmtFinSF1</th>\n",
       "      <th>BsmtFinSF2</th>\n",
       "      <th>...</th>\n",
       "      <th>SaleType_ConLw</th>\n",
       "      <th>SaleType_New</th>\n",
       "      <th>SaleType_Oth</th>\n",
       "      <th>SaleType_WD</th>\n",
       "      <th>SaleCondition_Abnorml</th>\n",
       "      <th>SaleCondition_AdjLand</th>\n",
       "      <th>SaleCondition_Alloca</th>\n",
       "      <th>SaleCondition_Family</th>\n",
       "      <th>SaleCondition_Normal</th>\n",
       "      <th>SaleCondition_Partial</th>\n",
       "    </tr>\n",
       "  </thead>\n",
       "  <tbody>\n",
       "    <tr>\n",
       "      <th>0</th>\n",
       "      <td>60</td>\n",
       "      <td>65.0</td>\n",
       "      <td>8450</td>\n",
       "      <td>7</td>\n",
       "      <td>5</td>\n",
       "      <td>2003</td>\n",
       "      <td>2003</td>\n",
       "      <td>196.0</td>\n",
       "      <td>706</td>\n",
       "      <td>0</td>\n",
       "      <td>...</td>\n",
       "      <td>0</td>\n",
       "      <td>0</td>\n",
       "      <td>0</td>\n",
       "      <td>1</td>\n",
       "      <td>0</td>\n",
       "      <td>0</td>\n",
       "      <td>0</td>\n",
       "      <td>0</td>\n",
       "      <td>1</td>\n",
       "      <td>0</td>\n",
       "    </tr>\n",
       "    <tr>\n",
       "      <th>1</th>\n",
       "      <td>20</td>\n",
       "      <td>80.0</td>\n",
       "      <td>9600</td>\n",
       "      <td>6</td>\n",
       "      <td>8</td>\n",
       "      <td>1976</td>\n",
       "      <td>1976</td>\n",
       "      <td>0.0</td>\n",
       "      <td>978</td>\n",
       "      <td>0</td>\n",
       "      <td>...</td>\n",
       "      <td>0</td>\n",
       "      <td>0</td>\n",
       "      <td>0</td>\n",
       "      <td>1</td>\n",
       "      <td>0</td>\n",
       "      <td>0</td>\n",
       "      <td>0</td>\n",
       "      <td>0</td>\n",
       "      <td>1</td>\n",
       "      <td>0</td>\n",
       "    </tr>\n",
       "    <tr>\n",
       "      <th>2</th>\n",
       "      <td>60</td>\n",
       "      <td>68.0</td>\n",
       "      <td>11250</td>\n",
       "      <td>7</td>\n",
       "      <td>5</td>\n",
       "      <td>2001</td>\n",
       "      <td>2002</td>\n",
       "      <td>162.0</td>\n",
       "      <td>486</td>\n",
       "      <td>0</td>\n",
       "      <td>...</td>\n",
       "      <td>0</td>\n",
       "      <td>0</td>\n",
       "      <td>0</td>\n",
       "      <td>1</td>\n",
       "      <td>0</td>\n",
       "      <td>0</td>\n",
       "      <td>0</td>\n",
       "      <td>0</td>\n",
       "      <td>1</td>\n",
       "      <td>0</td>\n",
       "    </tr>\n",
       "    <tr>\n",
       "      <th>3</th>\n",
       "      <td>70</td>\n",
       "      <td>60.0</td>\n",
       "      <td>9550</td>\n",
       "      <td>7</td>\n",
       "      <td>5</td>\n",
       "      <td>1915</td>\n",
       "      <td>1970</td>\n",
       "      <td>0.0</td>\n",
       "      <td>216</td>\n",
       "      <td>0</td>\n",
       "      <td>...</td>\n",
       "      <td>0</td>\n",
       "      <td>0</td>\n",
       "      <td>0</td>\n",
       "      <td>1</td>\n",
       "      <td>1</td>\n",
       "      <td>0</td>\n",
       "      <td>0</td>\n",
       "      <td>0</td>\n",
       "      <td>0</td>\n",
       "      <td>0</td>\n",
       "    </tr>\n",
       "    <tr>\n",
       "      <th>4</th>\n",
       "      <td>60</td>\n",
       "      <td>84.0</td>\n",
       "      <td>14260</td>\n",
       "      <td>8</td>\n",
       "      <td>5</td>\n",
       "      <td>2000</td>\n",
       "      <td>2000</td>\n",
       "      <td>350.0</td>\n",
       "      <td>655</td>\n",
       "      <td>0</td>\n",
       "      <td>...</td>\n",
       "      <td>0</td>\n",
       "      <td>0</td>\n",
       "      <td>0</td>\n",
       "      <td>1</td>\n",
       "      <td>0</td>\n",
       "      <td>0</td>\n",
       "      <td>0</td>\n",
       "      <td>0</td>\n",
       "      <td>1</td>\n",
       "      <td>0</td>\n",
       "    </tr>\n",
       "  </tbody>\n",
       "</table>\n",
       "<p>5 rows × 270 columns</p>\n",
       "</div>"
      ],
      "text/plain": [
       "   MSSubClass  LotFrontage  LotArea  OverallQual  OverallCond  YearBuilt  \\\n",
       "0          60         65.0     8450            7            5       2003   \n",
       "1          20         80.0     9600            6            8       1976   \n",
       "2          60         68.0    11250            7            5       2001   \n",
       "3          70         60.0     9550            7            5       1915   \n",
       "4          60         84.0    14260            8            5       2000   \n",
       "\n",
       "   YearRemodAdd  MasVnrArea  BsmtFinSF1  BsmtFinSF2  ...  SaleType_ConLw  \\\n",
       "0          2003       196.0         706           0  ...               0   \n",
       "1          1976         0.0         978           0  ...               0   \n",
       "2          2002       162.0         486           0  ...               0   \n",
       "3          1970         0.0         216           0  ...               0   \n",
       "4          2000       350.0         655           0  ...               0   \n",
       "\n",
       "   SaleType_New  SaleType_Oth  SaleType_WD  SaleCondition_Abnorml  \\\n",
       "0             0             0            1                      0   \n",
       "1             0             0            1                      0   \n",
       "2             0             0            1                      0   \n",
       "3             0             0            1                      1   \n",
       "4             0             0            1                      0   \n",
       "\n",
       "   SaleCondition_AdjLand  SaleCondition_Alloca  SaleCondition_Family  \\\n",
       "0                      0                     0                     0   \n",
       "1                      0                     0                     0   \n",
       "2                      0                     0                     0   \n",
       "3                      0                     0                     0   \n",
       "4                      0                     0                     0   \n",
       "\n",
       "   SaleCondition_Normal  SaleCondition_Partial  \n",
       "0                     1                      0  \n",
       "1                     1                      0  \n",
       "2                     1                      0  \n",
       "3                     0                      0  \n",
       "4                     1                      0  \n",
       "\n",
       "[5 rows x 270 columns]"
      ]
     },
     "execution_count": 22,
     "metadata": {},
     "output_type": "execute_result"
    }
   ],
   "source": [
    "df.head()"
   ]
  },
  {
   "cell_type": "markdown",
   "metadata": {},
   "source": [
    "The final data set contains 1456 data points and 270 columns/features."
   ]
  },
  {
   "cell_type": "markdown",
   "metadata": {},
   "source": [
    "### Question 2.3: Generate train test split 70/30. Set random_state=42\n",
    "\n",
    "**Assumption:**\n",
    "- There is another unseen data set that will be used for the final Test once the model and hyperparameters are selected thru the train/validation set. This data set is not available on this analysis."
   ]
  },
  {
   "cell_type": "code",
   "execution_count": 23,
   "metadata": {},
   "outputs": [],
   "source": [
    "from sklearn.model_selection import train_test_split\n",
    "\n",
    "my_list.remove('SalePrice')\n",
    "features = df[my_list]\n",
    "target = df['SalePrice']"
   ]
  },
  {
   "cell_type": "code",
   "execution_count": 24,
   "metadata": {},
   "outputs": [],
   "source": [
    "X_train, X_test, y_train, y_test = train_test_split(features, target, test_size=0.3, random_state=42)"
   ]
  },
  {
   "cell_type": "markdown",
   "metadata": {},
   "source": [
    "### Question 3.1: Train a linear regression algorithm to predict `SalePrice` from the remaining features."
   ]
  },
  {
   "cell_type": "code",
   "execution_count": 25,
   "metadata": {},
   "outputs": [],
   "source": [
    "from sklearn.linear_model import Ridge, RidgeCV, ElasticNet, Lasso, LassoCV, LassoLarsCV, LinearRegression, ElasticNetCV\n",
    "from sklearn.metrics import mean_squared_error\n",
    "\n",
    "#Fit a linear regression model to this data\n",
    "rm = LinearRegression()\n",
    "\n",
    "# Fit the data(train the model)\n",
    "rm.fit(X_train, y_train)\n",
    "\n",
    "# Predict\n",
    "y_predicted_train = rm.predict(X_train)\n",
    "y_predicted_test = rm.predict(X_test)"
   ]
  },
  {
   "cell_type": "markdown",
   "metadata": {},
   "source": [
    "### Question 3.2: Evaluate the model and report the performance on both training and test data. These numbers will serve as our benchmark performance."
   ]
  },
  {
   "cell_type": "code",
   "execution_count": 26,
   "metadata": {},
   "outputs": [
    {
     "name": "stdout",
     "output_type": "stream",
     "text": [
      "RMSE_train: 18355.49191192785\n",
      "RMSE_test: 23614.20759497074\n"
     ]
    }
   ],
   "source": [
    "#Compute the RMSE \n",
    "import math\n",
    "\n",
    "def RMSE_performance(X_train, X_test, rm):\n",
    "    # Predict\n",
    "    y_predicted_train = rm.predict(X_train)\n",
    "    y_predicted_test = rm.predict(X_test)\n",
    "\n",
    "    MSE_train = np.sum(np.square(y_predicted_train - y_train)) / y_train.size\n",
    "    MSE_test = np.sum(np.square(y_predicted_test - y_test)) / y_test.size\n",
    "\n",
    "    RMSE_train = math.sqrt(MSE_train)\n",
    "    RMSE_test = math.sqrt(MSE_test)\n",
    "    \n",
    "    return (RMSE_train, RMSE_test)\n",
    "\n",
    "linear_reg_performance = RMSE_performance(X_train, X_test, rm)\n",
    "print('RMSE_train: {}'.format(linear_reg_performance[0]))\n",
    "print('RMSE_test: {}'.format(linear_reg_performance[1]))"
   ]
  },
  {
   "cell_type": "markdown",
   "metadata": {
    "collapsed": true
   },
   "source": [
    "We now train a regularized version of `LinearRegression` called `Lasso` (you can load it from the same library). `Lasso` has an argument called `alpha`, which is the **shrinkage parameter** we referred to earlier.\n",
    "\n",
    "### Question 4.1: Let `alpha = 0.000001` and train a `Lasso` algorithm. Show that the resulting model is practically identical to the one we trained with `LinearRegression`. There are different ways to show this, so you will need to think of a way. <span style=\"color:red\" float:right>[2 point]</span>"
   ]
  },
  {
   "cell_type": "code",
   "execution_count": 27,
   "metadata": {},
   "outputs": [
    {
     "name": "stdout",
     "output_type": "stream",
     "text": [
      "RMSE_train: 18355.49191192784\n",
      "RMSE_test: 23685.269800758706\n"
     ]
    },
    {
     "name": "stderr",
     "output_type": "stream",
     "text": [
      "C:\\Users\\rodol\\Anaconda3\\lib\\site-packages\\sklearn\\linear_model\\_coordinate_descent.py:530: ConvergenceWarning: Objective did not converge. You might want to increase the number of iterations. Duality gap: 85331262555.02168, tolerance: 634515517.3913862\n",
      "  model = cd_fast.enet_coordinate_descent(\n"
     ]
    }
   ],
   "source": [
    "from sklearn import linear_model\n",
    "\n",
    "#Fit a linear regression model to this data\n",
    "lasso = Lasso(alpha = 0.000001, max_iter=10000)\n",
    "\n",
    "# Fit the data(train the model)\n",
    "lasso.fit(X_train, y_train)\n",
    "\n",
    "# Predict\n",
    "y_predicted_train_lasso = lasso.predict(X_train)\n",
    "y_predicted_test_lasso = lasso.predict(X_test)\n",
    "\n",
    "#Compute the RMSE \n",
    "lasso_performance = RMSE_performance(X_train, X_test, lasso)\n",
    "print('RMSE_train: {}'.format(lasso_performance[0]))\n",
    "print('RMSE_test: {}'.format(lasso_performance[1]))"
   ]
  },
  {
   "cell_type": "code",
   "execution_count": 28,
   "metadata": {
    "scrolled": false
   },
   "outputs": [
    {
     "data": {
      "image/png": "[encoded data removed]",
      "text/plain": [
       "<Figure size 576x432 with 1 Axes>"
      ]
     },
     "metadata": {
      "needs_background": "light"
     },
     "output_type": "display_data"
    }
   ],
   "source": [
    "#To Do Create a scatter plot\n",
    "plt.figure(figsize=(8, 6)).gca()\n",
    "\n",
    "#Linear Regression\n",
    "plt.scatter(y_test, y_predicted_test, label = 'Linear Reg', color=\"orange\")\n",
    "plt.plot(y_predicted_test, y_predicted_test, linewidth=3, color = 'orange')\n",
    "\n",
    "#LASSO\n",
    "plt.scatter(y_test, y_predicted_test_lasso, label = 'LASSO', color=\"blue\")\n",
    "plt.plot(y_predicted_test_lasso, y_predicted_test_lasso, linewidth=3, color=\"blue\")\n",
    "\n",
    "#General \n",
    "plt.title('Real Value Vs Predicted for Linear Reg and LASSO', fontsize = 15)\n",
    "plt.xlabel('Real Value', fontsize = 12)\n",
    "plt.ylabel('Predicted Value', fontsize = 12)\n",
    "plt.legend()\n",
    "plt.grid()\n",
    "plt.show()"
   ]
  },
  {
   "cell_type": "code",
   "execution_count": 29,
   "metadata": {},
   "outputs": [
    {
     "name": "stdout",
     "output_type": "stream",
     "text": [
      "RMSE_test_linear_reg: 23614.20759497074\n",
      "RMSE_test_lasso: 23685.269800758706\n"
     ]
    }
   ],
   "source": [
    "#Comparison in performance\n",
    "print('RMSE_test_linear_reg: {}'.format(linear_reg_performance[1]))\n",
    "print('RMSE_test_lasso: {}'.format(lasso_performance[1]))"
   ]
  },
  {
   "cell_type": "markdown",
   "metadata": {},
   "source": [
    "Both points and lines superposed each other, showing that with an `alpha` value as small as the one chosen for this analysis both models (linear regression and LASSO) lead to the same answers. Also it is possible to notice the pretty similar RMSE value."
   ]
  },
  {
   "cell_type": "markdown",
   "metadata": {},
   "source": [
    "### Another example using  LASSO but a different Alpha value"
   ]
  },
  {
   "cell_type": "code",
   "execution_count": 30,
   "metadata": {},
   "outputs": [
    {
     "data": {
      "image/png": "[encoded data removed]",
      "text/plain": [
       "<Figure size 576x432 with 1 Axes>"
      ]
     },
     "metadata": {
      "needs_background": "light"
     },
     "output_type": "display_data"
    },
    {
     "name": "stdout",
     "output_type": "stream",
     "text": [
      "RMSE_test_linear_reg: 23614.20759497074\n",
      "RMSE_test_lasso: 22120.506006819785\n",
      "RMSE_test_linear_reg: 18355.49191192785\n",
      "RMSE_test_lasso: 21292.50093020147\n"
     ]
    }
   ],
   "source": [
    "#Fit a linear regression model to this data\n",
    "lasso_2 = Lasso(alpha = 200, max_iter=10000)\n",
    "\n",
    "# Fit the data(train the model)\n",
    "lasso_2.fit(X_train, y_train)\n",
    "\n",
    "# Predict\n",
    "y_predicted_train_lasso = lasso_2.predict(X_train)\n",
    "y_predicted_test_lasso = lasso_2.predict(X_test)\n",
    "\n",
    "#Compute the RMSE \n",
    "lasso_performance = RMSE_performance(X_train, X_test, lasso_2)\n",
    "\n",
    "#To Do Create a scatter plot\n",
    "plt.figure(figsize=(8, 6)).gca()\n",
    "\n",
    "#Linear Regression\n",
    "plt.scatter(y_test, y_predicted_test, label = 'Linear Reg', color=\"orange\")\n",
    "plt.plot(y_predicted_test, y_predicted_test, linewidth=3, color = 'orange')\n",
    "\n",
    "#LASSO\n",
    "plt.scatter(y_test, y_predicted_test_lasso, label = 'LASSO', color=\"blue\")\n",
    "plt.plot(y_predicted_test_lasso, y_predicted_test_lasso, linewidth=3, color=\"blue\")\n",
    "\n",
    "#General \n",
    "plt.title('Real Value Vs Predicted for Linear Reg and LASSO', fontsize = 15)\n",
    "plt.xlabel('Real Value', fontsize = 12)\n",
    "plt.ylabel('Predicted Value', fontsize = 12)\n",
    "plt.legend()\n",
    "plt.grid()\n",
    "plt.show()\n",
    "\n",
    "#Comparison in performance\n",
    "print('RMSE_test_linear_reg: {}'.format(linear_reg_performance[1]))\n",
    "print('RMSE_test_lasso: {}'.format(lasso_performance[1]))\n",
    "\n",
    "print('RMSE_test_linear_reg: {}'.format(linear_reg_performance[0]))\n",
    "print('RMSE_test_lasso: {}'.format(lasso_performance[0]))"
   ]
  },
  {
   "cell_type": "code",
   "execution_count": 31,
   "metadata": {},
   "outputs": [
    {
     "name": "stderr",
     "output_type": "stream",
     "text": [
      "C:\\Users\\rodol\\Anaconda3\\lib\\site-packages\\sklearn\\linear_model\\_coordinate_descent.py:530: ConvergenceWarning: Objective did not converge. You might want to increase the number of iterations. Duality gap: 510054856257.70935, tolerance: 634515517.3913862\n",
      "  model = cd_fast.enet_coordinate_descent(\n"
     ]
    },
    {
     "data": {
      "image/png": "[encoded data removed]",
      "text/plain": [
       "<Figure size 576x432 with 1 Axes>"
      ]
     },
     "metadata": {
      "needs_background": "light"
     },
     "output_type": "display_data"
    },
    {
     "name": "stdout",
     "output_type": "stream",
     "text": [
      "RMSE_test_linear_reg: 23614.20759497074\n",
      "RMSE_test_elastic_net: 30034.286661241662\n",
      "RMSE_train_linear_reg: 18355.49191192785\n",
      "RMSE_train_elastic_net: 31692.08801173731\n"
     ]
    }
   ],
   "source": [
    "#Fit a linear regression model to this data\n",
    "en = ElasticNet(alpha = 10, max_iter=10000)\n",
    "\n",
    "# Fit the data(train the model)\n",
    "en.fit(X_train, y_train)\n",
    "\n",
    "# Predict\n",
    "y_predicted_train_en = en.predict(X_train)\n",
    "y_predicted_test_en = en.predict(X_test)\n",
    "\n",
    "#Compute the RMSE \n",
    "en_performance = RMSE_performance(X_train, X_test, en)\n",
    "\n",
    "#To Do Create a scatter plot\n",
    "plt.figure(figsize=(8, 6)).gca()\n",
    "\n",
    "#Linear Regression\n",
    "plt.scatter(y_test, y_predicted_test, label = 'Linear Reg', color=\"orange\")\n",
    "plt.plot(y_predicted_test, y_predicted_test, linewidth=3, color = 'orange')\n",
    "\n",
    "#LASSO\n",
    "plt.scatter(y_test, y_predicted_test_en, label = 'ELASTICNET', color=\"blue\")\n",
    "plt.plot(y_predicted_test_en, y_predicted_test_en, linewidth=3, color=\"blue\")\n",
    "\n",
    "#General \n",
    "plt.title('Real Value Vs Predicted for Linear Reg and ELASTICNET', fontsize = 15)\n",
    "plt.xlabel('Real Value', fontsize = 12)\n",
    "plt.ylabel('Predicted Value', fontsize = 12)\n",
    "plt.legend()\n",
    "plt.grid()\n",
    "plt.show()\n",
    "\n",
    "#Comparison in performance\n",
    "print('RMSE_test_linear_reg: {}'.format(linear_reg_performance[1]))\n",
    "print('RMSE_test_elastic_net: {}'.format(en_performance[1]))\n",
    "\n",
    "#Comparison in performance\n",
    "print('RMSE_train_linear_reg: {}'.format(linear_reg_performance[0]))\n",
    "print('RMSE_train_elastic_net: {}'.format(en_performance[0]))"
   ]
  },
  {
   "cell_type": "markdown",
   "metadata": {},
   "source": [
    "### Another example using but now using RIDGE and a different Alpha value"
   ]
  },
  {
   "cell_type": "code",
   "execution_count": 32,
   "metadata": {},
   "outputs": [
    {
     "data": {
      "image/png": "[encoded data removed]",
      "text/plain": [
       "<Figure size 576x432 with 1 Axes>"
      ]
     },
     "metadata": {
      "needs_background": "light"
     },
     "output_type": "display_data"
    },
    {
     "name": "stdout",
     "output_type": "stream",
     "text": [
      "RMSE_test_linear_reg: 23614.20759497074\n",
      "RMSE_test_elastic_net: 22037.038910744308\n",
      "RMSE_train_linear_reg: 18355.49191192785\n",
      "RMSE_train_elastic_net: 19681.643208331283\n"
     ]
    }
   ],
   "source": [
    "#Fit a linear regression model to this data\n",
    "ri = Ridge(alpha = 10, max_iter=10000)\n",
    "\n",
    "# Fit the data(train the model)\n",
    "ri.fit(X_train, y_train)\n",
    "\n",
    "# Predict\n",
    "y_predicted_train_ri = ri.predict(X_train)\n",
    "y_predicted_test_ri = ri.predict(X_test)\n",
    "\n",
    "#Compute the RMSE \n",
    "ri_performance = RMSE_performance(X_train, X_test, ri)\n",
    "\n",
    "#To Do Create a scatter plot\n",
    "plt.figure(figsize=(8, 6)).gca()\n",
    "\n",
    "#Linear Regression\n",
    "plt.scatter(y_test, y_predicted_test, label = 'Linear Reg', color=\"orange\")\n",
    "plt.plot(y_predicted_test, y_predicted_test, linewidth=3, color = 'orange')\n",
    "\n",
    "#RIDGE\n",
    "plt.scatter(y_test, y_predicted_test_ri, label = 'Ridge', color=\"blue\")\n",
    "plt.plot(y_predicted_test_ri, y_predicted_test_ri, linewidth=3, color=\"blue\")\n",
    "\n",
    "#General \n",
    "plt.title('Real Value Vs Predicted for Linear Reg and ELASTICNET', fontsize = 15)\n",
    "plt.xlabel('Real Value', fontsize = 12)\n",
    "plt.ylabel('Predicted Value', fontsize = 12)\n",
    "plt.legend()\n",
    "plt.grid()\n",
    "plt.show()\n",
    "\n",
    "#Comparison in performance\n",
    "print('RMSE_test_linear_reg: {}'.format(linear_reg_performance[1]))\n",
    "print('RMSE_test_elastic_net: {}'.format(ri_performance[1]))\n",
    "\n",
    "#Comparison in performance\n",
    "print('RMSE_train_linear_reg: {}'.format(linear_reg_performance[0]))\n",
    "print('RMSE_train_elastic_net: {}'.format(ri_performance[0]))"
   ]
  },
  {
   "cell_type": "markdown",
   "metadata": {},
   "source": [
    "Using `ELASTICNET` and an alpha value of 10 we cannot notice the difference in **RMSE**. Compared with the `LASSO` Model from before where we needed a bigger alpha to start noticing differences in this case the alpha value needed to see differences in performance is smaller."
   ]
  },
  {
   "cell_type": "markdown",
   "metadata": {},
   "source": [
    "The examples above are just to compare the differences between different penalization methods using similar alphas."
   ]
  },
  {
   "cell_type": "markdown",
   "metadata": {},
   "source": [
    "#### Function for analysis on questions below.\n",
    "\n",
    "**NOTE:** Even though a cross validation function is available for Lasso, Ridge and ElasticNet (LassoCV, RidgeCV & ElasticNetCV) I decided not to use to visualize each of the performance points individually."
   ]
  },
  {
   "cell_type": "code",
   "execution_count": 33,
   "metadata": {},
   "outputs": [],
   "source": [
    "def regression_analysis(alpha_vals, regression_type, method):\n",
    "    #Model training and calculations\n",
    "    coefficients = []\n",
    "    RMSE_train = []\n",
    "    RMSE_test = []\n",
    "    flag = 0\n",
    "    number = []\n",
    "    for i in alpha_vals:\n",
    "        flag += 1 #Counter\n",
    "        #Fit a linear regression model to this data\n",
    "        model = regression_type(alpha = i, max_iter=100000, normalize = True)#The normalization will improve the speed as this is computationally expensive\n",
    "\n",
    "        # Fit the data(train the model)\n",
    "        model.fit(X_train, y_train)\n",
    "        coefficients_i = model.coef_\n",
    "\n",
    "        # Predict\n",
    "        y_predicted_train_model = model.predict(X_train)\n",
    "        y_predicted_test_model = model.predict(X_test)\n",
    "\n",
    "        #Compute the RMSE \n",
    "        performance = RMSE_performance(X_train, X_test, model)\n",
    "        RMSE_train_i = performance[0]\n",
    "        RMSE_test_i = performance[1]\n",
    "\n",
    "        RMSE_train.append(RMSE_train_i)\n",
    "        RMSE_test.append(RMSE_test_i)\n",
    "        coefficients.append(coefficients_i)\n",
    "        number.append(flag)    \n",
    "\n",
    "######################################   \n",
    "    #Dataframe with performance values\n",
    "    performance_data= pd.DataFrame({'alpha': alpha_vals, 'RMSE_Test': RMSE_test, 'RMSE_Train' : RMSE_train})\n",
    "    print('First 10 Values of Analysis')\n",
    "    print(performance_data.head(10))\n",
    "\n",
    "######################################\n",
    "    #To Do Create a scatter plot\n",
    "    plt.figure(figsize=(6, 4)).gca()\n",
    "    #Test\n",
    "    plt.scatter(performance_data['alpha'], performance_data['RMSE_Test'], label = 'Test', color=\"orange\")\n",
    "    #Train\n",
    "    plt.scatter(performance_data['alpha'], performance_data['RMSE_Train'], label = 'Train', color=\"blue\")\n",
    "    #General \n",
    "    plt.title('RMSE Vs Alpha for Train and Test Data for ' + method , fontsize = 12)\n",
    "    plt.xlabel('Alpha', fontsize = 12)\n",
    "    plt.ylabel('RMSE', fontsize = 12)\n",
    "    plt.legend()\n",
    "    plt.grid()\n",
    "    plt.show()\n",
    "\n",
    "    print('Apha for smallest RMSE Value')\n",
    "    print(min(zip(performance_data['RMSE_Test'], performance_data['alpha'])))\n",
    "    \n",
    "######################################\n",
    "    #Example of some of the coefficients (just 3), but not all the 270 Coefficients\n",
    "    coeff_0 = []\n",
    "    coeff_1 = []\n",
    "    coeff_2 = []\n",
    "\n",
    "    for i in range(len(alpha_vals)):\n",
    "        coeffs = coefficients[i][0]\n",
    "        coeffs1 = coefficients[i][1]\n",
    "        coeffs2 = coefficients[i][2]\n",
    "        coeff_0.append(coeffs)\n",
    "        coeff_1.append(coeffs1)\n",
    "        coeff_2.append(coeffs2)\n",
    "\n",
    "    #Plots\n",
    "    plt.scatter(alpha_vals, coeff_0, label = 'Coeff_0', color=\"orange\")\n",
    "    plt.scatter(alpha_vals, coeff_1, label = 'Coeff_1', color=\"blue\")\n",
    "    plt.scatter(alpha_vals, coeff_2, label = 'Coeff_2', color=\"red\")\n",
    "\n",
    "    #General \n",
    "    plt.title('Coefficients Vs Alpha for ' + method, fontsize = 15)\n",
    "    plt.xlabel('Alpha', fontsize = 12)\n",
    "    plt.ylabel('Coefficients Value', fontsize = 12)\n",
    "    plt.legend()\n",
    "    plt.grid()\n",
    "    plt.show()\n",
    "\n",
    "    #Zoom in to one of the coefficients of the anaysis\n",
    "    #Plots\n",
    "    plt.scatter(alpha_vals, coeff_2, label = 'Coeff_2', color=\"red\")\n",
    "    #General \n",
    "    plt.title('Coefficient Vs Alpha (Zoom In)', fontsize = 15)\n",
    "    plt.xlabel('Alpha', fontsize = 12)\n",
    "    plt.ylabel('Coefficient Value', fontsize = 12)\n",
    "    plt.legend()\n",
    "    plt.grid()\n",
    "    plt.show()\n",
    "    print('Example: Coefficient_2 last value')\n",
    "    print(coefficients[-1][2])"
   ]
  },
  {
   "cell_type": "markdown",
   "metadata": {
    "collapsed": true
   },
   "source": [
    "### Question 4.2: Iteratively train a new `Lasso` model, letting `alpha` change each time to one of the values given by `alpha_vals` below, keeping track of the performance on the training and test data each time, and storing the model's coefficients each time (the `coef_` attribute of the trained model)"
   ]
  },
  {
   "cell_type": "markdown",
   "metadata": {},
   "source": [
    "### Question 4.3: Using a visual, show how the performance on the training and test data changed as we gradually increased `alpha`."
   ]
  },
  {
   "cell_type": "markdown",
   "metadata": {},
   "source": [
    "### Question 4.4: Using a visual, show how the model's coefficients changed as we gradually increased the shrinkage parameter `alpha`. HINT: They should appear to be shrinking toward zero as you increase `alpha`!\n",
    "\n",
    "**Note:**\n",
    "Given the number of coefficients (number of features) the visual will be done with just a small number of examples."
   ]
  },
  {
   "cell_type": "code",
   "execution_count": 34,
   "metadata": {},
   "outputs": [],
   "source": [
    "#Lasso Regression\n",
    "alpha_vals = np.arange(0.01, 300, 0.1) # values of alpha we want to iterate over\n",
    "regression_type = Lasso\n",
    "method = 'LASSO'"
   ]
  },
  {
   "cell_type": "code",
   "execution_count": 35,
   "metadata": {
    "scrolled": false
   },
   "outputs": [
    {
     "name": "stdout",
     "output_type": "stream",
     "text": [
      "First 10 Values of Analysis\n",
      "   alpha     RMSE_Test    RMSE_Train\n",
      "0   0.01  23637.810154  18355.511109\n",
      "1   0.11  23544.146257  18357.814401\n",
      "2   0.21  23457.476536  18360.357130\n",
      "3   0.31  23370.934939  18365.063659\n",
      "4   0.41  23285.590144  18370.197259\n",
      "5   0.51  23205.921269  18375.380238\n",
      "6   0.61  23136.057977  18380.877180\n",
      "7   0.71  23076.917405  18385.672254\n",
      "8   0.81  23019.993568  18391.177383\n",
      "9   0.91  22963.454526  18397.272516\n"
     ]
    },
    {
     "data": {
      "image/png": "[encoded data removed]",
      "text/plain": [
       "<Figure size 432x288 with 1 Axes>"
      ]
     },
     "metadata": {
      "needs_background": "light"
     },
     "output_type": "display_data"
    },
    {
     "name": "stdout",
     "output_type": "stream",
     "text": [
      "Apha for smallest RMSE Value\n",
      "(21432.946124510552, 27.710000000000004)\n"
     ]
    },
    {
     "data": {
      "image/png": "[encoded data removed]",
      "text/plain": [
       "<Figure size 432x288 with 1 Axes>"
      ]
     },
     "metadata": {
      "needs_background": "light"
     },
     "output_type": "display_data"
    },
    {
     "data": {
      "image/png": "[encoded data removed]",
      "text/plain": [
       "<Figure size 432x288 with 1 Axes>"
      ]
     },
     "metadata": {
      "needs_background": "light"
     },
     "output_type": "display_data"
    },
    {
     "name": "stdout",
     "output_type": "stream",
     "text": [
      "Example: Coefficient_2 last value\n",
      "0.0\n"
     ]
    }
   ],
   "source": [
    "lasso_method = regression_analysis(alpha_vals, regression_type, method)"
   ]
  },
  {
   "cell_type": "markdown",
   "metadata": {},
   "source": [
    "The `LASSO` regularization method shrink the coefficient to zero after alpha around 260."
   ]
  },
  {
   "cell_type": "markdown",
   "metadata": {},
   "source": [
    "### Question 5.1: Repeat steps in Question 4 this time using `Ridge` instead of `Lasso`. We will use the following range for `alpha`: <span style=\"color:red\" float:right>[2 point]"
   ]
  },
  {
   "cell_type": "markdown",
   "metadata": {},
   "source": [
    "### Question 5.2: Using a visual, show how the performance on the training and test data changed as we gradually increased `alpha`."
   ]
  },
  {
   "cell_type": "markdown",
   "metadata": {},
   "source": [
    "### Question 5.3: Using a visual, show how the model's coefficients changed as we gradually increased the shrinkage parameter `alpha`.\n",
    "\n",
    "**Note:**\n",
    "Given the number of coefficients (number of features) the visual will be done with just a small number of examples."
   ]
  },
  {
   "cell_type": "code",
   "execution_count": 36,
   "metadata": {},
   "outputs": [],
   "source": [
    "#Ridge Regression\n",
    "alpha_vals = np.arange(0.1, 10, 0.01) # values of alpha we want to iterate over\n",
    "regression_type = Ridge\n",
    "method = 'Ridge'"
   ]
  },
  {
   "cell_type": "code",
   "execution_count": 37,
   "metadata": {},
   "outputs": [
    {
     "name": "stdout",
     "output_type": "stream",
     "text": [
      "First 10 Values of Analysis\n",
      "   alpha     RMSE_Test    RMSE_Train\n",
      "0   0.10  22312.776173  18993.955499\n",
      "1   0.11  22292.457167  19055.057476\n",
      "2   0.12  22275.274404  19115.157498\n",
      "3   0.13  22260.719638  19174.307233\n",
      "4   0.14  22248.402067  19232.561889\n",
      "5   0.15  22238.015309  19289.976726\n",
      "6   0.16  22229.314962  19346.605118\n",
      "7   0.17  22222.103009  19402.497526\n",
      "8   0.18  22216.216754  19457.701029\n",
      "9   0.19  22211.520832  19512.259187\n"
     ]
    },
    {
     "data": {
      "image/png": "[encoded data removed]",
      "text/plain": [
       "<Figure size 432x288 with 1 Axes>"
      ]
     },
     "metadata": {
      "needs_background": "light"
     },
     "output_type": "display_data"
    },
    {
     "name": "stdout",
     "output_type": "stream",
     "text": [
      "Apha for smallest RMSE Value\n",
      "(22202.441984811507, 0.23999999999999994)\n"
     ]
    },
    {
     "data": {
      "image/png": "[encoded data removed]",
      "text/plain": [
       "<Figure size 432x288 with 1 Axes>"
      ]
     },
     "metadata": {
      "needs_background": "light"
     },
     "output_type": "display_data"
    },
    {
     "data": {
      "image/png": "[encoded data removed]",
      "text/plain": [
       "<Figure size 432x288 with 1 Axes>"
      ]
     },
     "metadata": {
      "needs_background": "light"
     },
     "output_type": "display_data"
    },
    {
     "name": "stdout",
     "output_type": "stream",
     "text": [
      "Example: Coefficient_2 last value\n",
      "0.10181385252068612\n"
     ]
    }
   ],
   "source": [
    "ridge_method = regression_analysis(alpha_vals, regression_type, method)"
   ]
  },
  {
   "cell_type": "markdown",
   "metadata": {},
   "source": [
    "### Question 6: Repeat questions 5.1 - 5.3 using elasticnet experimenting with differnet values of alpha"
   ]
  },
  {
   "cell_type": "code",
   "execution_count": 44,
   "metadata": {},
   "outputs": [],
   "source": [
    "alpha_vals = np.arange(0.0001, 1, 0.0001) # values of alpha we want to iterate over\n",
    "regression_type = ElasticNet\n",
    "method = 'ElasticNet'"
   ]
  },
  {
   "cell_type": "code",
   "execution_count": 45,
   "metadata": {},
   "outputs": [
    {
     "name": "stdout",
     "output_type": "stream",
     "text": [
      "First 10 Values of Analysis\n",
      "    alpha     RMSE_Test    RMSE_Train\n",
      "0  0.0001  22491.237180  18679.406485\n",
      "1  0.0002  22308.631409  19005.650162\n",
      "2  0.0003  22235.358062  19306.202536\n",
      "3  0.0004  22206.772833  19586.575604\n",
      "4  0.0005  22203.471634  19852.370831\n",
      "5  0.0006  22216.979913  20107.267990\n",
      "6  0.0007  22242.737407  20353.639463\n",
      "7  0.0008  22277.956638  20593.064403\n",
      "8  0.0009  22320.773148  20826.639127\n",
      "9  0.0010  22369.870262  21055.153412\n"
     ]
    },
    {
     "data": {
      "image/png": "[encoded data removed]",
      "text/plain": [
       "<Figure size 432x288 with 1 Axes>"
      ]
     },
     "metadata": {
      "needs_background": "light"
     },
     "output_type": "display_data"
    },
    {
     "name": "stdout",
     "output_type": "stream",
     "text": [
      "Apha for smallest RMSE Value\n",
      "(22203.47163406324, 0.0005)\n"
     ]
    },
    {
     "data": {
      "image/png": "[encoded data removed]",
      "text/plain": [
       "<Figure size 432x288 with 1 Axes>"
      ]
     },
     "metadata": {
      "needs_background": "light"
     },
     "output_type": "display_data"
    },
    {
     "data": {
      "image/png": "[encoded data removed]",
      "text/plain": [
       "<Figure size 432x288 with 1 Axes>"
      ]
     },
     "metadata": {
      "needs_background": "light"
     },
     "output_type": "display_data"
    },
    {
     "name": "stdout",
     "output_type": "stream",
     "text": [
      "Example: Coefficient_2 last value\n",
      "0.003532609197429817\n"
     ]
    }
   ],
   "source": [
    "elasticnet_method = regression_analysis(alpha_vals, regression_type, method)"
   ]
  },
  {
   "cell_type": "markdown",
   "metadata": {},
   "source": [
    "For all intended purposes the *coefficient_2* was shrunk all the way to zero using the `ElasticNet` method."
   ]
  },
  {
   "cell_type": "markdown",
   "metadata": {},
   "source": [
    "### Question 7: Based on the results, briefly describe the effect of changing `alpha` on the coefficients of  `Ridge`, `Lasso`, and `ElasticNet`. What value of `alpha` would you choose for each case? You do not need to give a precise answer, but choose a number."
   ]
  },
  {
   "cell_type": "markdown",
   "metadata": {},
   "source": [
    "Extra analysis might be needed to see why **Ridge** and **ElasticNet** yield higher RMSE values with very small alphas. At the same time it is expected to see a faster change in the model by using Ridge regularization (and as a consequence ElasticNet) given the quadratic nature of such method.\n",
    "\n",
    "Based on this analysis:\n",
    "\n",
    "| Regularization | Alpha |\n",
    "| --- | --- |\n",
    "| LASSO | 27.71 |\n",
    "| Ridge | 0.24 |\n",
    "| ElasticNet | 0.0005 |"
   ]
  },
  {
   "cell_type": "markdown",
   "metadata": {},
   "source": [
    "### Question 8: Create a new text cell in your Notebook: Complete a 50-100 word summary (or short description of your thinking in applying this week's learning to the solution) of your experience in this assignment. Include:\n",
    "\n",
    "This particular assignment was a little bit more challenging than the previous ones since I came to this project with very little experience on seeing the alpha factor as another important hyperparameter when using regularization to optimize linear regression. I see the importance of understanding this concept very well as it can be applied to basically many other ML methods as a way to select the features that are actually important for the model (embedded feature selection method). Also, this is a critical topic when talking about neural networks which basically a method using series of linear/logistic regressions happening at the same time.\n",
    "\n",
    "The take away from this assignment and the link to real-world problems is in the value of the correct hyperparameter, which unfortunately cannot be known in advance and requires some experimentation (potentially cross validation and/or grid/random search methods)."
   ]
  }
 ],
 "metadata": {
  "kernelspec": {
   "display_name": "Python 3",
   "language": "python",
   "name": "python3"
  },
  "language_info": {
   "codemirror_mode": {
    "name": "ipython",
    "version": 3
   },
   "file_extension": ".py",
   "mimetype": "text/x-python",
   "name": "python",
   "nbconvert_exporter": "python",
   "pygments_lexer": "ipython3",
   "version": "3.8.8"
  }
 },
 "nbformat": 4,
 "nbformat_minor": 2
}
